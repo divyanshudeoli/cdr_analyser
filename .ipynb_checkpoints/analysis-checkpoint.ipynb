{
 "cells": [
  {
   "cell_type": "code",
   "execution_count": 7,
   "id": "decimal-dylan",
   "metadata": {},
   "outputs": [],
   "source": [
    "import matplotlib.pyplot as plt\n",
    "import seaborn as sns\n",
    "import pandas as pd\n",
    "import numpy as np\n",
    "import datetime"
   ]
  },
  {
   "cell_type": "code",
   "execution_count": 9,
   "id": "impressive-paper",
   "metadata": {},
   "outputs": [],
   "source": [
    "df=pd.read_csv('data.csv')"
   ]
  },
  {
   "cell_type": "code",
   "execution_count": 10,
   "id": "discrete-referral",
   "metadata": {},
   "outputs": [
    {
     "data": {
      "text/html": [
       "<div>\n",
       "<style scoped>\n",
       "    .dataframe tbody tr th:only-of-type {\n",
       "        vertical-align: middle;\n",
       "    }\n",
       "\n",
       "    .dataframe tbody tr th {\n",
       "        vertical-align: top;\n",
       "    }\n",
       "\n",
       "    .dataframe thead th {\n",
       "        text-align: right;\n",
       "    }\n",
       "</style>\n",
       "<table border=\"1\" class=\"dataframe\">\n",
       "  <thead>\n",
       "    <tr style=\"text-align: right;\">\n",
       "      <th></th>\n",
       "      <th>PHONE</th>\n",
       "      <th>IMEI1</th>\n",
       "      <th>IMEI2</th>\n",
       "      <th>TYPE</th>\n",
       "      <th>IMSI</th>\n",
       "      <th>Start</th>\n",
       "      <th>End</th>\n",
       "      <th>Cell</th>\n",
       "      <th>LOCATION</th>\n",
       "      <th>OPERATOR</th>\n",
       "    </tr>\n",
       "  </thead>\n",
       "  <tbody>\n",
       "    <tr>\n",
       "      <th>0</th>\n",
       "      <td>7336762801</td>\n",
       "      <td>791799632968668</td>\n",
       "      <td>1467359896962999</td>\n",
       "      <td>SMSOUT</td>\n",
       "      <td>929948520033148</td>\n",
       "      <td>2017-04-09 04:46:56</td>\n",
       "      <td>2017-04-09 04:46:56</td>\n",
       "      <td>33428738</td>\n",
       "      <td>[29.438913, 76.47808]</td>\n",
       "      <td>Airtel</td>\n",
       "    </tr>\n",
       "    <tr>\n",
       "      <th>1</th>\n",
       "      <td>8867729064</td>\n",
       "      <td>265737292118837</td>\n",
       "      <td>1773554680529262</td>\n",
       "      <td>SMSIN</td>\n",
       "      <td>402426061077854</td>\n",
       "      <td>2017-05-10 22:24:40</td>\n",
       "      <td>2017-05-10 22:24:40</td>\n",
       "      <td>37712480</td>\n",
       "      <td>[26.749246, 73.596473]</td>\n",
       "      <td>BSNL</td>\n",
       "    </tr>\n",
       "    <tr>\n",
       "      <th>2</th>\n",
       "      <td>8495320285</td>\n",
       "      <td>265737292118837</td>\n",
       "      <td>1699072552320483</td>\n",
       "      <td>CALLOUT</td>\n",
       "      <td>931934362336518</td>\n",
       "      <td>2017-05-12 13:45:51</td>\n",
       "      <td>2017-05-12 14:54:37</td>\n",
       "      <td>17946055</td>\n",
       "      <td>[28.511005, 76.381909]</td>\n",
       "      <td>BSNL</td>\n",
       "    </tr>\n",
       "    <tr>\n",
       "      <th>3</th>\n",
       "      <td>8867729064</td>\n",
       "      <td>791799632968668</td>\n",
       "      <td>1773554680529262</td>\n",
       "      <td>SMSOUT</td>\n",
       "      <td>463128952152150</td>\n",
       "      <td>2017-05-14 07:03:41</td>\n",
       "      <td>2017-05-14 07:03:41</td>\n",
       "      <td>32432455</td>\n",
       "      <td>[30.602719, 79.848828]</td>\n",
       "      <td>Jio</td>\n",
       "    </tr>\n",
       "    <tr>\n",
       "      <th>4</th>\n",
       "      <td>7686910172</td>\n",
       "      <td>265737292118837</td>\n",
       "      <td>1537389721310370</td>\n",
       "      <td>CALLOUT</td>\n",
       "      <td>582066148236489</td>\n",
       "      <td>2017-05-16 17:44:41</td>\n",
       "      <td>2017-05-16 18:09:57</td>\n",
       "      <td>26221206</td>\n",
       "      <td>[26.328941, 77.824529]</td>\n",
       "      <td>Jio</td>\n",
       "    </tr>\n",
       "  </tbody>\n",
       "</table>\n",
       "</div>"
      ],
      "text/plain": [
       "        PHONE            IMEI1             IMEI2     TYPE             IMSI  \\\n",
       "0  7336762801  791799632968668  1467359896962999   SMSOUT  929948520033148   \n",
       "1  8867729064  265737292118837  1773554680529262    SMSIN  402426061077854   \n",
       "2  8495320285  265737292118837  1699072552320483  CALLOUT  931934362336518   \n",
       "3  8867729064  791799632968668  1773554680529262   SMSOUT  463128952152150   \n",
       "4  7686910172  265737292118837  1537389721310370  CALLOUT  582066148236489   \n",
       "\n",
       "                 Start                  End      Cell                LOCATION  \\\n",
       "0  2017-04-09 04:46:56  2017-04-09 04:46:56  33428738   [29.438913, 76.47808]   \n",
       "1  2017-05-10 22:24:40  2017-05-10 22:24:40  37712480  [26.749246, 73.596473]   \n",
       "2  2017-05-12 13:45:51  2017-05-12 14:54:37  17946055  [28.511005, 76.381909]   \n",
       "3  2017-05-14 07:03:41  2017-05-14 07:03:41  32432455  [30.602719, 79.848828]   \n",
       "4  2017-05-16 17:44:41  2017-05-16 18:09:57  26221206  [26.328941, 77.824529]   \n",
       "\n",
       "  OPERATOR  \n",
       "0   Airtel  \n",
       "1     BSNL  \n",
       "2     BSNL  \n",
       "3      Jio  \n",
       "4      Jio  "
      ]
     },
     "execution_count": 10,
     "metadata": {},
     "output_type": "execute_result"
    }
   ],
   "source": [
    "df.head()"
   ]
  },
  {
   "cell_type": "code",
   "execution_count": 11,
   "id": "measured-mauritius",
   "metadata": {},
   "outputs": [
    {
     "data": {
      "image/png": "[encoded data removed]",
      "text/plain": [
       "<Figure size 432x288 with 1 Axes>"
      ]
     },
     "metadata": {
      "needs_background": "light"
     },
     "output_type": "display_data"
    }
   ],
   "source": [
    "def frequency():\n",
    "    numbers=df['PHONE'].astype('str').value_counts().head(10).index\n",
    "    freq=df['PHONE'].value_counts().head(10)\n",
    "    plt.bar(numbers,freq)\n",
    "    plt.xticks(numbers,numbers,rotation=70)\n",
    "    plt.ylabel('Number of times Called',weight='bold')\n",
    "    plt.xlabel('Phone Numbers',weight='bold')\n",
    "frequency()"
   ]
  },
  {
   "cell_type": "code",
   "execution_count": 25,
   "id": "north-philip",
   "metadata": {},
   "outputs": [],
   "source": [
    "lat=np.random.normal(0,90,100)\n",
    "lon=np.random.normal(0,90,100)"
   ]
  },
  {
   "cell_type": "code",
   "execution_count": 29,
   "id": "sweet-afternoon",
   "metadata": {},
   "outputs": [],
   "source": [
    "df2=pd.read_csv('first.csv')"
   ]
  },
  {
   "cell_type": "code",
   "execution_count": 28,
   "id": "prerequisite-filename",
   "metadata": {},
   "outputs": [
    {
     "data": {
      "text/plain": [
       "'import plotly.express as px\\ndf = px.data.gapminder().query(\"year==2007\")\\nfig = px.scatter_geo(df, locations=\"iso_alpha\", color=\"continent\",\\n                     hover_name=\"country\", size=\"pop\",\\n                     projection=\"natural earth\")\\nfig.show()'"
      ]
     },
     "execution_count": 28,
     "metadata": {},
     "output_type": "execute_result"
    }
   ],
   "source": [
    "'''import plotly.express as px\n",
    "df = px.data.gapminder().query(\"year==2007\")\n",
    "fig = px.scatter_geo(df, locations=\"iso_alpha\", color=\"continent\",\n",
    "                     hover_name=\"country\", size=\"pop\",\n",
    "                     projection=\"natural earth\")\n",
    "fig.show()'''"
   ]
  },
  {
   "cell_type": "code",
   "execution_count": 30,
   "id": "residential-enforcement",
   "metadata": {},
   "outputs": [
    {
     "data": {
      "application/vnd.plotly.v1+json": {
       "config": {
        "plotlyServerURL": "https://plot.ly"
       },
       "data": [
        {
         "geo": "geo",
         "hovertemplate": "LATITUDE=%{lat}<br>LONGITUDE=%{lon}<extra></extra>",
         "lat": [
          -22.9555,
          -34.126077,
          -27.214447,
          -27.077548,
          -24.248271,
          -31.621973,
          -33.381467,
          -21.444583,
          -29.991115,
          -30.563174,
          -20.986466,
          -21.385969,
          -25.372055,
          -23.008148,
          -26.338531,
          -27.925934,
          -28.320639,
          -24.132767,
          -29.256806,
          -21.7172,
          -6.415631,
          -6.784181,
          -16.661572,
          -12.785707,
          -14.809191,
          -9.06425,
          -5.451164,
          -11.560416,
          4.591399,
          -5.027152,
          -6.29012,
          -11.4727,
          -0.146021,
          -16.236325,
          -14.030486,
          -3.059856,
          -19.467456,
          -9.41996,
          2.140621,
          -10.038702,
          17.59755,
          26.593024,
          24.956521,
          18.26573,
          24.64511,
          28.977637,
          22.057478,
          33.099657,
          25.296272,
          34.492383,
          27.260236,
          20.852471,
          33.889884,
          27.858881,
          22.278004,
          25.45797,
          18.861451,
          30.314849,
          23.330072,
          26.1117,
          37.175558,
          35.344924,
          25.721848,
          29.846502,
          28.832518,
          33.730119,
          30.087579,
          31.652611,
          32.1298,
          36.687707,
          34.603091,
          34.614983,
          36.995326,
          34.113541,
          34.264802,
          28.642236,
          39.012094,
          31.936887,
          31.116278,
          34.196011,
          42.229882,
          38.805802,
          28.385778,
          31.168009,
          30.955286,
          32.557857,
          38.492137,
          30.656948,
          44.705573,
          29.725831,
          35.212663,
          36.263111,
          27.017622,
          39.575584,
          35.108285,
          42.603647,
          40.592852,
          33.563603,
          40.397495,
          36.962802
         ],
         "legendgroup": "",
         "lon": [
          130.975584,
          130.929028,
          136.368209,
          127.074613,
          129.293863,
          126.568932,
          129.569835,
          124.618218,
          127.970949,
          119.589414,
          126.651996,
          132.304535,
          133.164015,
          134.990431,
          128.548759,
          125.809617,
          133.099388,
          130.525471,
          121.093691,
          125.879776,
          43.517739,
          37.462919,
          30.051761,
          38.123321,
          21.286763,
          32.244712,
          33.055474,
          45.410922,
          33.646866,
          25.880728,
          39.402273,
          30.135261,
          36.795504,
          32.382417,
          34.784358,
          26.583818,
          38.163361,
          38.633892,
          34.665391,
          34.894843,
          57.082689,
          50.755237,
          54.797562,
          61.720618,
          58.885652,
          54.981395,
          60.105474,
          62.384052,
          54.195821,
          59.630923,
          56.168103,
          46.978443,
          61.122816,
          56.417109,
          60.402561,
          55.705963,
          54.362127,
          53.82591,
          61.443984,
          53.451442,
          46.676625,
          43.553506,
          46.108692,
          40.817558,
          41.167453,
          40.440496,
          40.497834,
          41.504481,
          35.064436,
          42.247672,
          43.567488,
          39.981511,
          37.891194,
          43.252754,
          41.303498,
          40.945282,
          45.018436,
          46.783027,
          39.28967,
          45.320654,
          -98.159335,
          -94.766862,
          -94.647118,
          -94.094579,
          -92.889235,
          -94.645948,
          -96.061782,
          -92.031144,
          -101.141311,
          -94.963607,
          -93.422231,
          -97.722849,
          -97.158628,
          -91.09823,
          -89.093385,
          -97.702708,
          -97.096902,
          -92.472512,
          -90.542764,
          -95.873476
         ],
         "marker": {
          "color": "#636efa",
          "symbol": "circle"
         },
         "mode": "markers",
         "name": "",
         "showlegend": false,
         "type": "scattergeo"
        }
       ],
       "layout": {
        "geo": {
         "center": {},
         "domain": {
          "x": [
           0,
           1
          ],
          "y": [
           0,
           1
          ]
         }
        },
        "legend": {
         "tracegroupgap": 0
        },
        "margin": {
         "t": 60
        },
        "template": {
         "data": {
          "bar": [
           {
            "error_x": {
             "color": "#2a3f5f"
            },
            "error_y": {
             "color": "#2a3f5f"
            },
            "marker": {
             "line": {
              "color": "#E5ECF6",
              "width": 0.5
             },
             "pattern": {
              "fillmode": "overlay",
              "size": 10,
              "solidity": 0.2
             }
            },
            "type": "bar"
           }
          ],
          "barpolar": [
           {
            "marker": {
             "line": {
              "color": "#E5ECF6",
              "width": 0.5
             },
             "pattern": {
              "fillmode": "overlay",
              "size": 10,
              "solidity": 0.2
             }
            },
            "type": "barpolar"
           }
          ],
          "carpet": [
           {
            "aaxis": {
             "endlinecolor": "#2a3f5f",
             "gridcolor": "white",
             "linecolor": "white",
             "minorgridcolor": "white",
             "startlinecolor": "#2a3f5f"
            },
            "baxis": {
             "endlinecolor": "#2a3f5f",
             "gridcolor": "white",
             "linecolor": "white",
             "minorgridcolor": "white",
             "startlinecolor": "#2a3f5f"
            },
            "type": "carpet"
           }
          ],
          "choropleth": [
           {
            "colorbar": {
             "outlinewidth": 0,
             "ticks": ""
            },
            "type": "choropleth"
           }
          ],
          "contour": [
           {
            "colorbar": {
             "outlinewidth": 0,
             "ticks": ""
            },
            "colorscale": [
             [
              0,
              "#0d0887"
             ],
             [
              0.1111111111111111,
              "#46039f"
             ],
             [
              0.2222222222222222,
              "#7201a8"
             ],
             [
              0.3333333333333333,
              "#9c179e"
             ],
             [
              0.4444444444444444,
              "#bd3786"
             ],
             [
              0.5555555555555556,
              "#d8576b"
             ],
             [
              0.6666666666666666,
              "#ed7953"
             ],
             [
              0.7777777777777778,
              "#fb9f3a"
             ],
             [
              0.8888888888888888,
              "#fdca26"
             ],
             [
              1,
              "#f0f921"
             ]
            ],
            "type": "contour"
           }
          ],
          "contourcarpet": [
           {
            "colorbar": {
             "outlinewidth": 0,
             "ticks": ""
            },
            "type": "contourcarpet"
           }
          ],
          "heatmap": [
           {
            "colorbar": {
             "outlinewidth": 0,
             "ticks": ""
            },
            "colorscale": [
             [
              0,
              "#0d0887"
             ],
             [
              0.1111111111111111,
              "#46039f"
             ],
             [
              0.2222222222222222,
              "#7201a8"
             ],
             [
              0.3333333333333333,
              "#9c179e"
             ],
             [
              0.4444444444444444,
              "#bd3786"
             ],
             [
              0.5555555555555556,
              "#d8576b"
             ],
             [
              0.6666666666666666,
              "#ed7953"
             ],
             [
              0.7777777777777778,
              "#fb9f3a"
             ],
             [
              0.8888888888888888,
              "#fdca26"
             ],
             [
              1,
              "#f0f921"
             ]
            ],
            "type": "heatmap"
           }
          ],
          "heatmapgl": [
           {
            "colorbar": {
             "outlinewidth": 0,
             "ticks": ""
            },
            "colorscale": [
             [
              0,
              "#0d0887"
             ],
             [
              0.1111111111111111,
              "#46039f"
             ],
             [
              0.2222222222222222,
              "#7201a8"
             ],
             [
              0.3333333333333333,
              "#9c179e"
             ],
             [
              0.4444444444444444,
              "#bd3786"
             ],
             [
              0.5555555555555556,
              "#d8576b"
             ],
             [
              0.6666666666666666,
              "#ed7953"
             ],
             [
              0.7777777777777778,
              "#fb9f3a"
             ],
             [
              0.8888888888888888,
              "#fdca26"
             ],
             [
              1,
              "#f0f921"
             ]
            ],
            "type": "heatmapgl"
           }
          ],
          "histogram": [
           {
            "marker": {
             "pattern": {
              "fillmode": "overlay",
              "size": 10,
              "solidity": 0.2
             }
            },
            "type": "histogram"
           }
          ],
          "histogram2d": [
           {
            "colorbar": {
             "outlinewidth": 0,
             "ticks": ""
            },
            "colorscale": [
             [
              0,
              "#0d0887"
             ],
             [
              0.1111111111111111,
              "#46039f"
             ],
             [
              0.2222222222222222,
              "#7201a8"
             ],
             [
              0.3333333333333333,
              "#9c179e"
             ],
             [
              0.4444444444444444,
              "#bd3786"
             ],
             [
              0.5555555555555556,
              "#d8576b"
             ],
             [
              0.6666666666666666,
              "#ed7953"
             ],
             [
              0.7777777777777778,
              "#fb9f3a"
             ],
             [
              0.8888888888888888,
              "#fdca26"
             ],
             [
              1,
              "#f0f921"
             ]
            ],
            "type": "histogram2d"
           }
          ],
          "histogram2dcontour": [
           {
            "colorbar": {
             "outlinewidth": 0,
             "ticks": ""
            },
            "colorscale": [
             [
              0,
              "#0d0887"
             ],
             [
              0.1111111111111111,
              "#46039f"
             ],
             [
              0.2222222222222222,
              "#7201a8"
             ],
             [
              0.3333333333333333,
              "#9c179e"
             ],
             [
              0.4444444444444444,
              "#bd3786"
             ],
             [
              0.5555555555555556,
              "#d8576b"
             ],
             [
              0.6666666666666666,
              "#ed7953"
             ],
             [
              0.7777777777777778,
              "#fb9f3a"
             ],
             [
              0.8888888888888888,
              "#fdca26"
             ],
             [
              1,
              "#f0f921"
             ]
            ],
            "type": "histogram2dcontour"
           }
          ],
          "mesh3d": [
           {
            "colorbar": {
             "outlinewidth": 0,
             "ticks": ""
            },
            "type": "mesh3d"
           }
          ],
          "parcoords": [
           {
            "line": {
             "colorbar": {
              "outlinewidth": 0,
              "ticks": ""
             }
            },
            "type": "parcoords"
           }
          ],
          "pie": [
           {
            "automargin": true,
            "type": "pie"
           }
          ],
          "scatter": [
           {
            "marker": {
             "colorbar": {
              "outlinewidth": 0,
              "ticks": ""
             }
            },
            "type": "scatter"
           }
          ],
          "scatter3d": [
           {
            "line": {
             "colorbar": {
              "outlinewidth": 0,
              "ticks": ""
             }
            },
            "marker": {
             "colorbar": {
              "outlinewidth": 0,
              "ticks": ""
             }
            },
            "type": "scatter3d"
           }
          ],
          "scattercarpet": [
           {
            "marker": {
             "colorbar": {
              "outlinewidth": 0,
              "ticks": ""
             }
            },
            "type": "scattercarpet"
           }
          ],
          "scattergeo": [
           {
            "marker": {
             "colorbar": {
              "outlinewidth": 0,
              "ticks": ""
             }
            },
            "type": "scattergeo"
           }
          ],
          "scattergl": [
           {
            "marker": {
             "colorbar": {
              "outlinewidth": 0,
              "ticks": ""
             }
            },
            "type": "scattergl"
           }
          ],
          "scattermapbox": [
           {
            "marker": {
             "colorbar": {
              "outlinewidth": 0,
              "ticks": ""
             }
            },
            "type": "scattermapbox"
           }
          ],
          "scatterpolar": [
           {
            "marker": {
             "colorbar": {
              "outlinewidth": 0,
              "ticks": ""
             }
            },
            "type": "scatterpolar"
           }
          ],
          "scatterpolargl": [
           {
            "marker": {
             "colorbar": {
              "outlinewidth": 0,
              "ticks": ""
             }
            },
            "type": "scatterpolargl"
           }
          ],
          "scatterternary": [
           {
            "marker": {
             "colorbar": {
              "outlinewidth": 0,
              "ticks": ""
             }
            },
            "type": "scatterternary"
           }
          ],
          "surface": [
           {
            "colorbar": {
             "outlinewidth": 0,
             "ticks": ""
            },
            "colorscale": [
             [
              0,
              "#0d0887"
             ],
             [
              0.1111111111111111,
              "#46039f"
             ],
             [
              0.2222222222222222,
              "#7201a8"
             ],
             [
              0.3333333333333333,
              "#9c179e"
             ],
             [
              0.4444444444444444,
              "#bd3786"
             ],
             [
              0.5555555555555556,
              "#d8576b"
             ],
             [
              0.6666666666666666,
              "#ed7953"
             ],
             [
              0.7777777777777778,
              "#fb9f3a"
             ],
             [
              0.8888888888888888,
              "#fdca26"
             ],
             [
              1,
              "#f0f921"
             ]
            ],
            "type": "surface"
           }
          ],
          "table": [
           {
            "cells": {
             "fill": {
              "color": "#EBF0F8"
             },
             "line": {
              "color": "white"
             }
            },
            "header": {
             "fill": {
              "color": "#C8D4E3"
             },
             "line": {
              "color": "white"
             }
            },
            "type": "table"
           }
          ]
         },
         "layout": {
          "annotationdefaults": {
           "arrowcolor": "#2a3f5f",
           "arrowhead": 0,
           "arrowwidth": 1
          },
          "autotypenumbers": "strict",
          "coloraxis": {
           "colorbar": {
            "outlinewidth": 0,
            "ticks": ""
           }
          },
          "colorscale": {
           "diverging": [
            [
             0,
             "#8e0152"
            ],
            [
             0.1,
             "#c51b7d"
            ],
            [
             0.2,
             "#de77ae"
            ],
            [
             0.3,
             "#f1b6da"
            ],
            [
             0.4,
             "#fde0ef"
            ],
            [
             0.5,
             "#f7f7f7"
            ],
            [
             0.6,
             "#e6f5d0"
            ],
            [
             0.7,
             "#b8e186"
            ],
            [
             0.8,
             "#7fbc41"
            ],
            [
             0.9,
             "#4d9221"
            ],
            [
             1,
             "#276419"
            ]
           ],
           "sequential": [
            [
             0,
             "#0d0887"
            ],
            [
             0.1111111111111111,
             "#46039f"
            ],
            [
             0.2222222222222222,
             "#7201a8"
            ],
            [
             0.3333333333333333,
             "#9c179e"
            ],
            [
             0.4444444444444444,
             "#bd3786"
            ],
            [
             0.5555555555555556,
             "#d8576b"
            ],
            [
             0.6666666666666666,
             "#ed7953"
            ],
            [
             0.7777777777777778,
             "#fb9f3a"
            ],
            [
             0.8888888888888888,
             "#fdca26"
            ],
            [
             1,
             "#f0f921"
            ]
           ],
           "sequentialminus": [
            [
             0,
             "#0d0887"
            ],
            [
             0.1111111111111111,
             "#46039f"
            ],
            [
             0.2222222222222222,
             "#7201a8"
            ],
            [
             0.3333333333333333,
             "#9c179e"
            ],
            [
             0.4444444444444444,
             "#bd3786"
            ],
            [
             0.5555555555555556,
             "#d8576b"
            ],
            [
             0.6666666666666666,
             "#ed7953"
            ],
            [
             0.7777777777777778,
             "#fb9f3a"
            ],
            [
             0.8888888888888888,
             "#fdca26"
            ],
            [
             1,
             "#f0f921"
            ]
           ]
          },
          "colorway": [
           "#636efa",
           "#EF553B",
           "#00cc96",
           "#ab63fa",
           "#FFA15A",
           "#19d3f3",
           "#FF6692",
           "#B6E880",
           "#FF97FF",
           "#FECB52"
          ],
          "font": {
           "color": "#2a3f5f"
          },
          "geo": {
           "bgcolor": "white",
           "lakecolor": "white",
           "landcolor": "#E5ECF6",
           "showlakes": true,
           "showland": true,
           "subunitcolor": "white"
          },
          "hoverlabel": {
           "align": "left"
          },
          "hovermode": "closest",
          "mapbox": {
           "style": "light"
          },
          "paper_bgcolor": "white",
          "plot_bgcolor": "#E5ECF6",
          "polar": {
           "angularaxis": {
            "gridcolor": "white",
            "linecolor": "white",
            "ticks": ""
           },
           "bgcolor": "#E5ECF6",
           "radialaxis": {
            "gridcolor": "white",
            "linecolor": "white",
            "ticks": ""
           }
          },
          "scene": {
           "xaxis": {
            "backgroundcolor": "#E5ECF6",
            "gridcolor": "white",
            "gridwidth": 2,
            "linecolor": "white",
            "showbackground": true,
            "ticks": "",
            "zerolinecolor": "white"
           },
           "yaxis": {
            "backgroundcolor": "#E5ECF6",
            "gridcolor": "white",
            "gridwidth": 2,
            "linecolor": "white",
            "showbackground": true,
            "ticks": "",
            "zerolinecolor": "white"
           },
           "zaxis": {
            "backgroundcolor": "#E5ECF6",
            "gridcolor": "white",
            "gridwidth": 2,
            "linecolor": "white",
            "showbackground": true,
            "ticks": "",
            "zerolinecolor": "white"
           }
          },
          "shapedefaults": {
           "line": {
            "color": "#2a3f5f"
           }
          },
          "ternary": {
           "aaxis": {
            "gridcolor": "white",
            "linecolor": "white",
            "ticks": ""
           },
           "baxis": {
            "gridcolor": "white",
            "linecolor": "white",
            "ticks": ""
           },
           "bgcolor": "#E5ECF6",
           "caxis": {
            "gridcolor": "white",
            "linecolor": "white",
            "ticks": ""
           }
          },
          "title": {
           "x": 0.05
          },
          "xaxis": {
           "automargin": true,
           "gridcolor": "white",
           "linecolor": "white",
           "ticks": "",
           "title": {
            "standoff": 15
           },
           "zerolinecolor": "white",
           "zerolinewidth": 2
          },
          "yaxis": {
           "automargin": true,
           "gridcolor": "white",
           "linecolor": "white",
           "ticks": "",
           "title": {
            "standoff": 15
           },
           "zerolinecolor": "white",
           "zerolinewidth": 2
          }
         }
        }
       }
      },
      "text/html": [
       "<div>                            <div id=\"98cf5fed-829e-42ff-acff-f631efcdc3e5\" class=\"plotly-graph-div\" style=\"height:525px; width:100%;\"></div>            <script type=\"text/javascript\">                require([\"plotly\"], function(Plotly) {                    window.PLOTLYENV=window.PLOTLYENV || {};                                    if (document.getElementById(\"98cf5fed-829e-42ff-acff-f631efcdc3e5\")) {                    Plotly.newPlot(                        \"98cf5fed-829e-42ff-acff-f631efcdc3e5\",                        [{\"geo\":\"geo\",\"hovertemplate\":\"LATITUDE=%{lat}<br>LONGITUDE=%{lon}<extra></extra>\",\"lat\":[-22.9555,-34.126077,-27.214447,-27.077548,-24.248271,-31.621973,-33.381467,-21.444583,-29.991115,-30.563174,-20.986466,-21.385969,-25.372055,-23.008148,-26.338531,-27.925934,-28.320639,-24.132767,-29.256806,-21.7172,-6.415631,-6.784181,-16.661572,-12.785707,-14.809191,-9.06425,-5.451164,-11.560416,4.591399,-5.027152,-6.29012,-11.4727,-0.146021,-16.236325,-14.030486,-3.059856,-19.467456,-9.41996,2.140621,-10.038702,17.59755,26.593024,24.956521,18.26573,24.64511,28.977637,22.057478,33.099657,25.296272,34.492383,27.260236,20.852471,33.889884,27.858881,22.278004,25.45797,18.861451,30.314849,23.330072,26.1117,37.175558,35.344924,25.721848,29.846502,28.832518,33.730119,30.087579,31.652611,32.1298,36.687707,34.603091,34.614983,36.995326,34.113541,34.264802,28.642236,39.012094,31.936887,31.116278,34.196011,42.229882,38.805802,28.385778,31.168009,30.955286,32.557857,38.492137,30.656948,44.705573,29.725831,35.212663,36.263111,27.017622,39.575584,35.108285,42.603647,40.592852,33.563603,40.397495,36.962802],\"legendgroup\":\"\",\"lon\":[130.975584,130.929028,136.368209,127.074613,129.293863,126.568932,129.569835,124.618218,127.970949,119.589414,126.651996,132.304535,133.164015,134.990431,128.548759,125.809617,133.099388,130.525471,121.093691,125.879776,43.517739,37.462919,30.051761,38.123321,21.286763,32.244712,33.055474,45.410922,33.646866,25.880728,39.402273,30.135261,36.795504,32.382417,34.784358,26.583818,38.163361,38.633892,34.665391,34.894843,57.082689,50.755237,54.797562,61.720618,58.885652,54.981395,60.105474,62.384052,54.195821,59.630923,56.168103,46.978443,61.122816,56.417109,60.402561,55.705963,54.362127,53.82591,61.443984,53.451442,46.676625,43.553506,46.108692,40.817558,41.167453,40.440496,40.497834,41.504481,35.064436,42.247672,43.567488,39.981511,37.891194,43.252754,41.303498,40.945282,45.018436,46.783027,39.28967,45.320654,-98.159335,-94.766862,-94.647118,-94.094579,-92.889235,-94.645948,-96.061782,-92.031144,-101.141311,-94.963607,-93.422231,-97.722849,-97.158628,-91.09823,-89.093385,-97.702708,-97.096902,-92.472512,-90.542764,-95.873476],\"marker\":{\"color\":\"#636efa\",\"symbol\":\"circle\"},\"mode\":\"markers\",\"name\":\"\",\"showlegend\":false,\"type\":\"scattergeo\"}],                        {\"geo\":{\"center\":{},\"domain\":{\"x\":[0.0,1.0],\"y\":[0.0,1.0]}},\"legend\":{\"tracegroupgap\":0},\"margin\":{\"t\":60},\"template\":{\"data\":{\"bar\":[{\"error_x\":{\"color\":\"#2a3f5f\"},\"error_y\":{\"color\":\"#2a3f5f\"},\"marker\":{\"line\":{\"color\":\"#E5ECF6\",\"width\":0.5},\"pattern\":{\"fillmode\":\"overlay\",\"size\":10,\"solidity\":0.2}},\"type\":\"bar\"}],\"barpolar\":[{\"marker\":{\"line\":{\"color\":\"#E5ECF6\",\"width\":0.5},\"pattern\":{\"fillmode\":\"overlay\",\"size\":10,\"solidity\":0.2}},\"type\":\"barpolar\"}],\"carpet\":[{\"aaxis\":{\"endlinecolor\":\"#2a3f5f\",\"gridcolor\":\"white\",\"linecolor\":\"white\",\"minorgridcolor\":\"white\",\"startlinecolor\":\"#2a3f5f\"},\"baxis\":{\"endlinecolor\":\"#2a3f5f\",\"gridcolor\":\"white\",\"linecolor\":\"white\",\"minorgridcolor\":\"white\",\"startlinecolor\":\"#2a3f5f\"},\"type\":\"carpet\"}],\"choropleth\":[{\"colorbar\":{\"outlinewidth\":0,\"ticks\":\"\"},\"type\":\"choropleth\"}],\"contour\":[{\"colorbar\":{\"outlinewidth\":0,\"ticks\":\"\"},\"colorscale\":[[0.0,\"#0d0887\"],[0.1111111111111111,\"#46039f\"],[0.2222222222222222,\"#7201a8\"],[0.3333333333333333,\"#9c179e\"],[0.4444444444444444,\"#bd3786\"],[0.5555555555555556,\"#d8576b\"],[0.6666666666666666,\"#ed7953\"],[0.7777777777777778,\"#fb9f3a\"],[0.8888888888888888,\"#fdca26\"],[1.0,\"#f0f921\"]],\"type\":\"contour\"}],\"contourcarpet\":[{\"colorbar\":{\"outlinewidth\":0,\"ticks\":\"\"},\"type\":\"contourcarpet\"}],\"heatmap\":[{\"colorbar\":{\"outlinewidth\":0,\"ticks\":\"\"},\"colorscale\":[[0.0,\"#0d0887\"],[0.1111111111111111,\"#46039f\"],[0.2222222222222222,\"#7201a8\"],[0.3333333333333333,\"#9c179e\"],[0.4444444444444444,\"#bd3786\"],[0.5555555555555556,\"#d8576b\"],[0.6666666666666666,\"#ed7953\"],[0.7777777777777778,\"#fb9f3a\"],[0.8888888888888888,\"#fdca26\"],[1.0,\"#f0f921\"]],\"type\":\"heatmap\"}],\"heatmapgl\":[{\"colorbar\":{\"outlinewidth\":0,\"ticks\":\"\"},\"colorscale\":[[0.0,\"#0d0887\"],[0.1111111111111111,\"#46039f\"],[0.2222222222222222,\"#7201a8\"],[0.3333333333333333,\"#9c179e\"],[0.4444444444444444,\"#bd3786\"],[0.5555555555555556,\"#d8576b\"],[0.6666666666666666,\"#ed7953\"],[0.7777777777777778,\"#fb9f3a\"],[0.8888888888888888,\"#fdca26\"],[1.0,\"#f0f921\"]],\"type\":\"heatmapgl\"}],\"histogram\":[{\"marker\":{\"pattern\":{\"fillmode\":\"overlay\",\"size\":10,\"solidity\":0.2}},\"type\":\"histogram\"}],\"histogram2d\":[{\"colorbar\":{\"outlinewidth\":0,\"ticks\":\"\"},\"colorscale\":[[0.0,\"#0d0887\"],[0.1111111111111111,\"#46039f\"],[0.2222222222222222,\"#7201a8\"],[0.3333333333333333,\"#9c179e\"],[0.4444444444444444,\"#bd3786\"],[0.5555555555555556,\"#d8576b\"],[0.6666666666666666,\"#ed7953\"],[0.7777777777777778,\"#fb9f3a\"],[0.8888888888888888,\"#fdca26\"],[1.0,\"#f0f921\"]],\"type\":\"histogram2d\"}],\"histogram2dcontour\":[{\"colorbar\":{\"outlinewidth\":0,\"ticks\":\"\"},\"colorscale\":[[0.0,\"#0d0887\"],[0.1111111111111111,\"#46039f\"],[0.2222222222222222,\"#7201a8\"],[0.3333333333333333,\"#9c179e\"],[0.4444444444444444,\"#bd3786\"],[0.5555555555555556,\"#d8576b\"],[0.6666666666666666,\"#ed7953\"],[0.7777777777777778,\"#fb9f3a\"],[0.8888888888888888,\"#fdca26\"],[1.0,\"#f0f921\"]],\"type\":\"histogram2dcontour\"}],\"mesh3d\":[{\"colorbar\":{\"outlinewidth\":0,\"ticks\":\"\"},\"type\":\"mesh3d\"}],\"parcoords\":[{\"line\":{\"colorbar\":{\"outlinewidth\":0,\"ticks\":\"\"}},\"type\":\"parcoords\"}],\"pie\":[{\"automargin\":true,\"type\":\"pie\"}],\"scatter\":[{\"marker\":{\"colorbar\":{\"outlinewidth\":0,\"ticks\":\"\"}},\"type\":\"scatter\"}],\"scatter3d\":[{\"line\":{\"colorbar\":{\"outlinewidth\":0,\"ticks\":\"\"}},\"marker\":{\"colorbar\":{\"outlinewidth\":0,\"ticks\":\"\"}},\"type\":\"scatter3d\"}],\"scattercarpet\":[{\"marker\":{\"colorbar\":{\"outlinewidth\":0,\"ticks\":\"\"}},\"type\":\"scattercarpet\"}],\"scattergeo\":[{\"marker\":{\"colorbar\":{\"outlinewidth\":0,\"ticks\":\"\"}},\"type\":\"scattergeo\"}],\"scattergl\":[{\"marker\":{\"colorbar\":{\"outlinewidth\":0,\"ticks\":\"\"}},\"type\":\"scattergl\"}],\"scattermapbox\":[{\"marker\":{\"colorbar\":{\"outlinewidth\":0,\"ticks\":\"\"}},\"type\":\"scattermapbox\"}],\"scatterpolar\":[{\"marker\":{\"colorbar\":{\"outlinewidth\":0,\"ticks\":\"\"}},\"type\":\"scatterpolar\"}],\"scatterpolargl\":[{\"marker\":{\"colorbar\":{\"outlinewidth\":0,\"ticks\":\"\"}},\"type\":\"scatterpolargl\"}],\"scatterternary\":[{\"marker\":{\"colorbar\":{\"outlinewidth\":0,\"ticks\":\"\"}},\"type\":\"scatterternary\"}],\"surface\":[{\"colorbar\":{\"outlinewidth\":0,\"ticks\":\"\"},\"colorscale\":[[0.0,\"#0d0887\"],[0.1111111111111111,\"#46039f\"],[0.2222222222222222,\"#7201a8\"],[0.3333333333333333,\"#9c179e\"],[0.4444444444444444,\"#bd3786\"],[0.5555555555555556,\"#d8576b\"],[0.6666666666666666,\"#ed7953\"],[0.7777777777777778,\"#fb9f3a\"],[0.8888888888888888,\"#fdca26\"],[1.0,\"#f0f921\"]],\"type\":\"surface\"}],\"table\":[{\"cells\":{\"fill\":{\"color\":\"#EBF0F8\"},\"line\":{\"color\":\"white\"}},\"header\":{\"fill\":{\"color\":\"#C8D4E3\"},\"line\":{\"color\":\"white\"}},\"type\":\"table\"}]},\"layout\":{\"annotationdefaults\":{\"arrowcolor\":\"#2a3f5f\",\"arrowhead\":0,\"arrowwidth\":1},\"autotypenumbers\":\"strict\",\"coloraxis\":{\"colorbar\":{\"outlinewidth\":0,\"ticks\":\"\"}},\"colorscale\":{\"diverging\":[[0,\"#8e0152\"],[0.1,\"#c51b7d\"],[0.2,\"#de77ae\"],[0.3,\"#f1b6da\"],[0.4,\"#fde0ef\"],[0.5,\"#f7f7f7\"],[0.6,\"#e6f5d0\"],[0.7,\"#b8e186\"],[0.8,\"#7fbc41\"],[0.9,\"#4d9221\"],[1,\"#276419\"]],\"sequential\":[[0.0,\"#0d0887\"],[0.1111111111111111,\"#46039f\"],[0.2222222222222222,\"#7201a8\"],[0.3333333333333333,\"#9c179e\"],[0.4444444444444444,\"#bd3786\"],[0.5555555555555556,\"#d8576b\"],[0.6666666666666666,\"#ed7953\"],[0.7777777777777778,\"#fb9f3a\"],[0.8888888888888888,\"#fdca26\"],[1.0,\"#f0f921\"]],\"sequentialminus\":[[0.0,\"#0d0887\"],[0.1111111111111111,\"#46039f\"],[0.2222222222222222,\"#7201a8\"],[0.3333333333333333,\"#9c179e\"],[0.4444444444444444,\"#bd3786\"],[0.5555555555555556,\"#d8576b\"],[0.6666666666666666,\"#ed7953\"],[0.7777777777777778,\"#fb9f3a\"],[0.8888888888888888,\"#fdca26\"],[1.0,\"#f0f921\"]]},\"colorway\":[\"#636efa\",\"#EF553B\",\"#00cc96\",\"#ab63fa\",\"#FFA15A\",\"#19d3f3\",\"#FF6692\",\"#B6E880\",\"#FF97FF\",\"#FECB52\"],\"font\":{\"color\":\"#2a3f5f\"},\"geo\":{\"bgcolor\":\"white\",\"lakecolor\":\"white\",\"landcolor\":\"#E5ECF6\",\"showlakes\":true,\"showland\":true,\"subunitcolor\":\"white\"},\"hoverlabel\":{\"align\":\"left\"},\"hovermode\":\"closest\",\"mapbox\":{\"style\":\"light\"},\"paper_bgcolor\":\"white\",\"plot_bgcolor\":\"#E5ECF6\",\"polar\":{\"angularaxis\":{\"gridcolor\":\"white\",\"linecolor\":\"white\",\"ticks\":\"\"},\"bgcolor\":\"#E5ECF6\",\"radialaxis\":{\"gridcolor\":\"white\",\"linecolor\":\"white\",\"ticks\":\"\"}},\"scene\":{\"xaxis\":{\"backgroundcolor\":\"#E5ECF6\",\"gridcolor\":\"white\",\"gridwidth\":2,\"linecolor\":\"white\",\"showbackground\":true,\"ticks\":\"\",\"zerolinecolor\":\"white\"},\"yaxis\":{\"backgroundcolor\":\"#E5ECF6\",\"gridcolor\":\"white\",\"gridwidth\":2,\"linecolor\":\"white\",\"showbackground\":true,\"ticks\":\"\",\"zerolinecolor\":\"white\"},\"zaxis\":{\"backgroundcolor\":\"#E5ECF6\",\"gridcolor\":\"white\",\"gridwidth\":2,\"linecolor\":\"white\",\"showbackground\":true,\"ticks\":\"\",\"zerolinecolor\":\"white\"}},\"shapedefaults\":{\"line\":{\"color\":\"#2a3f5f\"}},\"ternary\":{\"aaxis\":{\"gridcolor\":\"white\",\"linecolor\":\"white\",\"ticks\":\"\"},\"baxis\":{\"gridcolor\":\"white\",\"linecolor\":\"white\",\"ticks\":\"\"},\"bgcolor\":\"#E5ECF6\",\"caxis\":{\"gridcolor\":\"white\",\"linecolor\":\"white\",\"ticks\":\"\"}},\"title\":{\"x\":0.05},\"xaxis\":{\"automargin\":true,\"gridcolor\":\"white\",\"linecolor\":\"white\",\"ticks\":\"\",\"title\":{\"standoff\":15},\"zerolinecolor\":\"white\",\"zerolinewidth\":2},\"yaxis\":{\"automargin\":true,\"gridcolor\":\"white\",\"linecolor\":\"white\",\"ticks\":\"\",\"title\":{\"standoff\":15},\"zerolinecolor\":\"white\",\"zerolinewidth\":2}}}},                        {\"responsive\": true}                    ).then(function(){\n",
       "                            \n",
       "var gd = document.getElementById('98cf5fed-829e-42ff-acff-f631efcdc3e5');\n",
       "var x = new MutationObserver(function (mutations, observer) {{\n",
       "        var display = window.getComputedStyle(gd).display;\n",
       "        if (!display || display === 'none') {{\n",
       "            console.log([gd, 'removed!']);\n",
       "            Plotly.purge(gd);\n",
       "            observer.disconnect();\n",
       "        }}\n",
       "}});\n",
       "\n",
       "// Listen for the removal of the full notebook cells\n",
       "var notebookContainer = gd.closest('#notebook-container');\n",
       "if (notebookContainer) {{\n",
       "    x.observe(notebookContainer, {childList: true});\n",
       "}}\n",
       "\n",
       "// Listen for the clearing of the current output cell\n",
       "var outputEl = gd.closest('.output');\n",
       "if (outputEl) {{\n",
       "    x.observe(outputEl, {childList: true});\n",
       "}}\n",
       "\n",
       "                        })                };                });            </script>        </div>"
      ]
     },
     "metadata": {},
     "output_type": "display_data"
    }
   ],
   "source": [
    "px.scatter_geo(df2,lat='LATITUDE',lon='LONGITUDE')"
   ]
  },
  {
   "cell_type": "code",
   "execution_count": 2,
   "id": "continuing-placement",
   "metadata": {},
   "outputs": [
    {
     "name": "stdout",
     "output_type": "stream",
     "text": [
      "Collecting plotly\n",
      "  Using cached plotly-5.3.1-py2.py3-none-any.whl (23.9 MB)\n",
      "Collecting tenacity>=6.2.0\n",
      "  Using cached tenacity-8.0.1-py3-none-any.whl (24 kB)\n",
      "Requirement already satisfied: six in c:\\python\\lib\\site-packages (from plotly) (1.15.0)\n",
      "Installing collected packages: tenacity, plotly\n",
      "Successfully installed plotly-5.3.1 tenacity-8.0.1\n",
      "Note: you may need to restart the kernel to use updated packages.\n"
     ]
    },
    {
     "name": "stderr",
     "output_type": "stream",
     "text": [
      "WARNING: You are using pip version 21.0; however, version 21.3 is available.\n",
      "You should consider upgrading via the 'c:\\python\\python.exe -m pip install --upgrade pip' command.\n"
     ]
    }
   ],
   "source": [
    "pip install plotly"
   ]
  },
  {
   "cell_type": "code",
   "execution_count": null,
   "id": "finished-immune",
   "metadata": {},
   "outputs": [],
   "source": []
  },
  {
   "cell_type": "code",
   "execution_count": 32,
   "id": "adolescent-impression",
   "metadata": {},
   "outputs": [
    {
     "name": "stdout",
     "output_type": "stream",
     "text": [
      "Object `value_counts` not found.\n"
     ]
    }
   ],
   "source": [
    "df['PHONE'].value_counts?"
   ]
  },
  {
   "cell_type": "code",
   "execution_count": 43,
   "id": "revolutionary-shield",
   "metadata": {},
   "outputs": [
    {
     "name": "stdout",
     "output_type": "stream",
     "text": [
      "Object `plot` not found.\n"
     ]
    }
   ],
   "source": [
    "df['PHONE'].value_counts().plot?"
   ]
  },
  {
   "cell_type": "code",
   "execution_count": 1,
   "id": "saved-participation",
   "metadata": {},
   "outputs": [],
   "source": [
    "import plotly"
   ]
  },
  {
   "cell_type": "code",
   "execution_count": 49,
   "id": "crucial-eugene",
   "metadata": {},
   "outputs": [],
   "source": []
  },
  {
   "cell_type": "code",
   "execution_count": 65,
   "id": "advance-elizabeth",
   "metadata": {},
   "outputs": [
    {
     "data": {
      "text/plain": [
       "datetime.datetime(2017, 4, 9, 4, 46, 56)"
      ]
     },
     "execution_count": 65,
     "metadata": {},
     "output_type": "execute_result"
    }
   ],
   "source": [
    "datetime.datetime.strptime(df['Start'][0],'%Y-%m-%d %H:%M:%S')"
   ]
  },
  {
   "cell_type": "code",
   "execution_count": 53,
   "id": "private-special",
   "metadata": {},
   "outputs": [
    {
     "data": {
      "text/html": [
       "<div>\n",
       "<style scoped>\n",
       "    .dataframe tbody tr th:only-of-type {\n",
       "        vertical-align: middle;\n",
       "    }\n",
       "\n",
       "    .dataframe tbody tr th {\n",
       "        vertical-align: top;\n",
       "    }\n",
       "\n",
       "    .dataframe thead th {\n",
       "        text-align: right;\n",
       "    }\n",
       "</style>\n",
       "<table border=\"1\" class=\"dataframe\">\n",
       "  <thead>\n",
       "    <tr style=\"text-align: right;\">\n",
       "      <th></th>\n",
       "      <th>PHONE</th>\n",
       "      <th>IMEI1</th>\n",
       "      <th>IMEI2</th>\n",
       "      <th>TYPE</th>\n",
       "      <th>IMSI</th>\n",
       "      <th>Start</th>\n",
       "      <th>End</th>\n",
       "      <th>Cell</th>\n",
       "      <th>LOCATION</th>\n",
       "      <th>OPERATOR</th>\n",
       "    </tr>\n",
       "  </thead>\n",
       "  <tbody>\n",
       "    <tr>\n",
       "      <th>0</th>\n",
       "      <td>7336762801</td>\n",
       "      <td>791799632968668</td>\n",
       "      <td>1467359896962999</td>\n",
       "      <td>SMSOUT</td>\n",
       "      <td>929948520033148</td>\n",
       "      <td>2017-04-09 04:46:56</td>\n",
       "      <td>2017-04-09 04:46:56</td>\n",
       "      <td>33428738</td>\n",
       "      <td>[29.438913, 76.47808]</td>\n",
       "      <td>Airtel</td>\n",
       "    </tr>\n",
       "    <tr>\n",
       "      <th>1</th>\n",
       "      <td>8867729064</td>\n",
       "      <td>265737292118837</td>\n",
       "      <td>1773554680529262</td>\n",
       "      <td>SMSIN</td>\n",
       "      <td>402426061077854</td>\n",
       "      <td>2017-05-10 22:24:40</td>\n",
       "      <td>2017-05-10 22:24:40</td>\n",
       "      <td>37712480</td>\n",
       "      <td>[26.749246, 73.596473]</td>\n",
       "      <td>BSNL</td>\n",
       "    </tr>\n",
       "    <tr>\n",
       "      <th>2</th>\n",
       "      <td>8495320285</td>\n",
       "      <td>265737292118837</td>\n",
       "      <td>1699072552320483</td>\n",
       "      <td>CALLOUT</td>\n",
       "      <td>931934362336518</td>\n",
       "      <td>2017-05-12 13:45:51</td>\n",
       "      <td>2017-05-12 14:54:37</td>\n",
       "      <td>17946055</td>\n",
       "      <td>[28.511005, 76.381909]</td>\n",
       "      <td>BSNL</td>\n",
       "    </tr>\n",
       "    <tr>\n",
       "      <th>3</th>\n",
       "      <td>8867729064</td>\n",
       "      <td>791799632968668</td>\n",
       "      <td>1773554680529262</td>\n",
       "      <td>SMSOUT</td>\n",
       "      <td>463128952152150</td>\n",
       "      <td>2017-05-14 07:03:41</td>\n",
       "      <td>2017-05-14 07:03:41</td>\n",
       "      <td>32432455</td>\n",
       "      <td>[30.602719, 79.848828]</td>\n",
       "      <td>Jio</td>\n",
       "    </tr>\n",
       "    <tr>\n",
       "      <th>4</th>\n",
       "      <td>7686910172</td>\n",
       "      <td>265737292118837</td>\n",
       "      <td>1537389721310370</td>\n",
       "      <td>CALLOUT</td>\n",
       "      <td>582066148236489</td>\n",
       "      <td>2017-05-16 17:44:41</td>\n",
       "      <td>2017-05-16 18:09:57</td>\n",
       "      <td>26221206</td>\n",
       "      <td>[26.328941, 77.824529]</td>\n",
       "      <td>Jio</td>\n",
       "    </tr>\n",
       "    <tr>\n",
       "      <th>...</th>\n",
       "      <td>...</td>\n",
       "      <td>...</td>\n",
       "      <td>...</td>\n",
       "      <td>...</td>\n",
       "      <td>...</td>\n",
       "      <td>...</td>\n",
       "      <td>...</td>\n",
       "      <td>...</td>\n",
       "      <td>...</td>\n",
       "      <td>...</td>\n",
       "    </tr>\n",
       "    <tr>\n",
       "      <th>95</th>\n",
       "      <td>8495320285</td>\n",
       "      <td>791799632968668</td>\n",
       "      <td>1699072552320285</td>\n",
       "      <td>SMSIN</td>\n",
       "      <td>255972456282181</td>\n",
       "      <td>2021-07-28 11:37:32</td>\n",
       "      <td>2021-07-28 11:37:32</td>\n",
       "      <td>84506168</td>\n",
       "      <td>[34.276514, 74.680033]</td>\n",
       "      <td>Vodafone</td>\n",
       "    </tr>\n",
       "    <tr>\n",
       "      <th>96</th>\n",
       "      <td>8142287963</td>\n",
       "      <td>791799632968668</td>\n",
       "      <td>1628465734887963</td>\n",
       "      <td>CALLOUT</td>\n",
       "      <td>626397876027554</td>\n",
       "      <td>2021-08-10 00:19:15</td>\n",
       "      <td>2021-08-10 00:26:20</td>\n",
       "      <td>60516032</td>\n",
       "      <td>[32.504275, 74.679622]</td>\n",
       "      <td>Airtel</td>\n",
       "    </tr>\n",
       "    <tr>\n",
       "      <th>97</th>\n",
       "      <td>9782124682</td>\n",
       "      <td>265737292118837</td>\n",
       "      <td>1956434718524682</td>\n",
       "      <td>SMSOUT</td>\n",
       "      <td>557212963598946</td>\n",
       "      <td>2021-08-26 10:39:18</td>\n",
       "      <td>2021-08-26 10:39:18</td>\n",
       "      <td>77552237</td>\n",
       "      <td>[33.984424, 76.367409]</td>\n",
       "      <td>Vodafone</td>\n",
       "    </tr>\n",
       "    <tr>\n",
       "      <th>98</th>\n",
       "      <td>7336762801</td>\n",
       "      <td>791799632968668</td>\n",
       "      <td>1467359896962801</td>\n",
       "      <td>CALLIN</td>\n",
       "      <td>243043227973111</td>\n",
       "      <td>2021-09-10 21:53:44</td>\n",
       "      <td>2021-09-10 22:40:45</td>\n",
       "      <td>87824570</td>\n",
       "      <td>[32.064414, 74.521533]</td>\n",
       "      <td>Vodafone</td>\n",
       "    </tr>\n",
       "    <tr>\n",
       "      <th>99</th>\n",
       "      <td>9782124682</td>\n",
       "      <td>791799632968668</td>\n",
       "      <td>1956434718524682</td>\n",
       "      <td>SMSIN</td>\n",
       "      <td>942182636199398</td>\n",
       "      <td>2021-09-23 22:04:44</td>\n",
       "      <td>2021-09-23 22:04:44</td>\n",
       "      <td>10185191</td>\n",
       "      <td>[33.894501, 75.076382]</td>\n",
       "      <td>Idea</td>\n",
       "    </tr>\n",
       "  </tbody>\n",
       "</table>\n",
       "<p>100 rows × 10 columns</p>\n",
       "</div>"
      ],
      "text/plain": [
       "         PHONE            IMEI1             IMEI2     TYPE             IMSI  \\\n",
       "0   7336762801  791799632968668  1467359896962999   SMSOUT  929948520033148   \n",
       "1   8867729064  265737292118837  1773554680529262    SMSIN  402426061077854   \n",
       "2   8495320285  265737292118837  1699072552320483  CALLOUT  931934362336518   \n",
       "3   8867729064  791799632968668  1773554680529262   SMSOUT  463128952152150   \n",
       "4   7686910172  265737292118837  1537389721310370  CALLOUT  582066148236489   \n",
       "..         ...              ...               ...      ...              ...   \n",
       "95  8495320285  791799632968668  1699072552320285    SMSIN  255972456282181   \n",
       "96  8142287963  791799632968668  1628465734887963  CALLOUT  626397876027554   \n",
       "97  9782124682  265737292118837  1956434718524682   SMSOUT  557212963598946   \n",
       "98  7336762801  791799632968668  1467359896962801   CALLIN  243043227973111   \n",
       "99  9782124682  791799632968668  1956434718524682    SMSIN  942182636199398   \n",
       "\n",
       "                  Start                  End      Cell  \\\n",
       "0   2017-04-09 04:46:56  2017-04-09 04:46:56  33428738   \n",
       "1   2017-05-10 22:24:40  2017-05-10 22:24:40  37712480   \n",
       "2   2017-05-12 13:45:51  2017-05-12 14:54:37  17946055   \n",
       "3   2017-05-14 07:03:41  2017-05-14 07:03:41  32432455   \n",
       "4   2017-05-16 17:44:41  2017-05-16 18:09:57  26221206   \n",
       "..                  ...                  ...       ...   \n",
       "95  2021-07-28 11:37:32  2021-07-28 11:37:32  84506168   \n",
       "96  2021-08-10 00:19:15  2021-08-10 00:26:20  60516032   \n",
       "97  2021-08-26 10:39:18  2021-08-26 10:39:18  77552237   \n",
       "98  2021-09-10 21:53:44  2021-09-10 22:40:45  87824570   \n",
       "99  2021-09-23 22:04:44  2021-09-23 22:04:44  10185191   \n",
       "\n",
       "                  LOCATION  OPERATOR  \n",
       "0    [29.438913, 76.47808]    Airtel  \n",
       "1   [26.749246, 73.596473]      BSNL  \n",
       "2   [28.511005, 76.381909]      BSNL  \n",
       "3   [30.602719, 79.848828]       Jio  \n",
       "4   [26.328941, 77.824529]       Jio  \n",
       "..                     ...       ...  \n",
       "95  [34.276514, 74.680033]  Vodafone  \n",
       "96  [32.504275, 74.679622]    Airtel  \n",
       "97  [33.984424, 76.367409]  Vodafone  \n",
       "98  [32.064414, 74.521533]  Vodafone  \n",
       "99  [33.894501, 75.076382]      Idea  \n",
       "\n",
       "[100 rows x 10 columns]"
      ]
     },
     "execution_count": 53,
     "metadata": {},
     "output_type": "execute_result"
    }
   ],
   "source": [
    "df"
   ]
  },
  {
   "cell_type": "code",
   "execution_count": null,
   "id": "mysterious-article",
   "metadata": {},
   "outputs": [],
   "source": []
  }
 ],
 "metadata": {
  "kernelspec": {
   "display_name": "Python 3",
   "language": "python",
   "name": "python3"
  },
  "language_info": {
   "codemirror_mode": {
    "name": "ipython",
    "version": 3
   },
   "file_extension": ".py",
   "mimetype": "text/x-python",
   "name": "python",
   "nbconvert_exporter": "python",
   "pygments_lexer": "ipython3",
   "version": "3.8.5"
  }
 },
 "nbformat": 4,
 "nbformat_minor": 5
}
